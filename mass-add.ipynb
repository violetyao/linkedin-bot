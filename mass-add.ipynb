{
 "cells": [
  {
   "cell_type": "code",
   "execution_count": 2,
   "metadata": {},
   "outputs": [],
   "source": [
    "from selenium import webdriver #connect python with webbrowser-chrome\n",
    "from webdriver_manager.chrome import ChromeDriverManager\n",
    "import pyautogui as pag\n",
    "import time\n",
    "\n",
    "import pandas as pd"
   ]
  },
  {
   "cell_type": "code",
   "execution_count": 3,
   "metadata": {
    "scrolled": false
   },
   "outputs": [
    {
     "name": "stderr",
     "output_type": "stream",
     "text": [
      "[WDM] - Cache is valid for [04/06/2020]\n",
      "[WDM] - Looking for [chromedriver 83.0.4103.39 mac64] driver in cache \n",
      "[WDM] - Driver found in cache [/Users/violetyao/.wdm/drivers/chromedriver/83.0.4103.39/mac64/chromedriver]\n"
     ]
    },
    {
     "name": "stdout",
     "output_type": "stream",
     "text": [
      " \n"
     ]
    }
   ],
   "source": [
    "driver = webdriver.Chrome(ChromeDriverManager().install())"
   ]
  },
  {
   "cell_type": "code",
   "execution_count": 4,
   "metadata": {},
   "outputs": [],
   "source": [
    "def connect_to_linkedin():\n",
    "    url = \"http://linkedin.com/\"\n",
    "    driver.get(url)"
   ]
  },
  {
   "cell_type": "code",
   "execution_count": 5,
   "metadata": {},
   "outputs": [],
   "source": [
    "connect_to_linkedin()"
   ]
  },
  {
   "cell_type": "code",
   "execution_count": 6,
   "metadata": {},
   "outputs": [],
   "source": [
    "def login():\n",
    "    driver.find_element_by_partial_link_text(\"Sign\").click()\n",
    "    username = driver.find_element_by_id(\"username\")\n",
    "    username.send_keys(\"replace-with-your-username\")\n",
    "    password = driver.find_element_by_id(\"password\")\n",
    "    password.send_keys(\"replace-with-your-password\")\n",
    "    driver.find_element_by_class_name(\"login__form_action_container\").click()"
   ]
  },
  {
   "cell_type": "code",
   "execution_count": 7,
   "metadata": {},
   "outputs": [],
   "source": [
    "login()"
   ]
  },
  {
   "cell_type": "code",
   "execution_count": 8,
   "metadata": {},
   "outputs": [],
   "source": [
    "def add(url):\n",
    "    # validate url \n",
    "    try:\n",
    "        driver.get(url)\n",
    "    except:\n",
    "        print(\"Broken URL\")\n",
    "    \n",
    "    try:\n",
    "        # 2nd \n",
    "        # find connect button\n",
    "        driver.find_element_by_id(\"ember64\").click()\n",
    "        # find send now button\n",
    "        driver.find_element_by_xpath(\"//button[@aria-label='Send now']\").click()\n",
    "        print(\"Successfully added\")\n",
    "    except:\n",
    "        try:\n",
    "            # 3rd \n",
    "            driver.find_element_by_xpath(\"//span[text() = 'More…']\").click()\n",
    "            driver.find_element_by_xpath(\"//span[text() = 'Connect']\").click()\n",
    "            driver.find_element_by_xpath(\"//span[text() = 'Send now']\").click()\n",
    "            print(\"Successfully added\")\n",
    "        except:\n",
    "            # 1st \n",
    "            print(\"Already connected\")"
   ]
  },
  {
   "cell_type": "code",
   "execution_count": 9,
   "metadata": {},
   "outputs": [],
   "source": [
    "df = pd.read_csv(\"2020 Intern LinkedIn Profiles - Sheet1.csv\")"
   ]
  },
  {
   "cell_type": "code",
   "execution_count": 12,
   "metadata": {},
   "outputs": [],
   "source": [
    "lst = df[\"LinkedIn Link\"].tolist()\n",
    "lst = [l.strip() for l in lst]\n",
    "lst = [\"https://\" + l if l.startswith(\"www\") else l for l in lst ]"
   ]
  },
  {
   "cell_type": "code",
   "execution_count": 13,
   "metadata": {},
   "outputs": [],
   "source": [
    "for l in lst:\n",
    "    add(l)"
   ]
  },
  {
   "cell_type": "code",
   "execution_count": null,
   "metadata": {},
   "outputs": [],
   "source": []
  }
 ],
 "metadata": {
  "kernelspec": {
   "display_name": "Python 3",
   "language": "python",
   "name": "python3"
  },
  "language_info": {
   "codemirror_mode": {
    "name": "ipython",
    "version": 3
   },
   "file_extension": ".py",
   "mimetype": "text/x-python",
   "name": "python",
   "nbconvert_exporter": "python",
   "pygments_lexer": "ipython3",
   "version": "3.7.1"
  }
 },
 "nbformat": 4,
 "nbformat_minor": 2
}
